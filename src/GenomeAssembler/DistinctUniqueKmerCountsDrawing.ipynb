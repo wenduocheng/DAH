{
 "cells": [
  {
   "cell_type": "code",
   "execution_count": 22,
   "metadata": {},
   "outputs": [],
   "source": [
    "file1 = open('DistinctKmerCounts.txt', 'r')\n",
    "distinctKmers = file1.readlines()\n",
    "file2 = open('UniqueKmerCounts.txt','r')\n",
    "uniqueKmers = file2.readlines()\n"
   ]
  },
  {
   "cell_type": "code",
   "execution_count": 23,
   "metadata": {},
   "outputs": [],
   "source": [
    "distinctCounts = list()\n",
    "for line in distinctKmers:\n",
    "    counts = line.strip().split(':')\n",
    "    counts = [int(x) for x in counts]\n",
    "    distinctCounts.append(counts)\n",
    "\n",
    "uniqueCounts = list()\n",
    "for line in uniqueKmers:\n",
    "    counts = line.strip().split(':')\n",
    "    counts = [int(x) for x in counts]\n",
    "    uniqueCounts.append(counts)"
   ]
  },
  {
   "cell_type": "code",
   "execution_count": 24,
   "metadata": {},
   "outputs": [],
   "source": [
    "xd = [x[0] for x in distinctCounts]\n",
    "yd = [x[1]/1000 for x in distinctCounts]\n",
    "\n",
    "xu = [x[0] for x in uniqueCounts]\n",
    "yu = [x[1]/1000 for x in uniqueCounts]"
   ]
  },
  {
   "cell_type": "code",
   "execution_count": 40,
   "metadata": {},
   "outputs": [
    {
     "name": "stderr",
     "output_type": "stream",
     "text": [
      "No artists with labels found to put in legend.  Note that artists whose label start with an underscore are ignored when legend() is called with no argument.\n"
     ]
    },
    {
     "data": {
      "text/plain": [
       "<matplotlib.legend.Legend at 0x7fd4543bb100>"
      ]
     },
     "execution_count": 40,
     "metadata": {},
     "output_type": "execute_result"
    },
    {
     "data": {
      "image/png": "[encoded data removed]",
      "text/plain": [
       "<Figure size 432x288 with 1 Axes>"
      ]
     },
     "metadata": {
      "needs_background": "light"
     },
     "output_type": "display_data"
    }
   ],
   "source": [
    "import matplotlib.pyplot as plt\n",
    "import itertools\n",
    "\n",
    "\n",
    "fig = plt.figure()\n",
    "\n",
    "ax = fig.add_axes([0,0,1,1])\n",
    "\n",
    "\n",
    "new_xd, new_yd = zip(*sorted(zip(xd, yd)))\n",
    "\n",
    "\n",
    "new_xu, new_yu = zip(*sorted(zip(xu, yu)))\n",
    "\n",
    "\n",
    "\n",
    "\n",
    "ax.plot(new_xd, new_yd,color = 'blue',ls='-',marker = 'o')\n",
    "ax.plot(new_xu, new_yu,color = 'orange',ls='-',marker = '*')\n",
    "ax.legend()\n",
    "\n",
    "\n",
    "\n",
    "\n",
    "\n",
    "ax.set_xlabel('Kmer Length') \n",
    "ax.set_ylabel('Counts in thousand')\n",
    "ax.set_title('Distinct & Unique Kmer Count')"
   ]
  },
  {
   "cell_type": "code",
   "execution_count": null,
   "metadata": {},
   "outputs": [],
   "source": []
  }
 ],
 "metadata": {
  "kernelspec": {
   "display_name": "base",
   "language": "python",
   "name": "python3"
  },
  "language_info": {
   "codemirror_mode": {
    "name": "ipython",
    "version": 3
   },
   "file_extension": ".py",
   "mimetype": "text/x-python",
   "name": "python",
   "nbconvert_exporter": "python",
   "pygments_lexer": "ipython3",
   "version": "3.9.5"
  },
  "orig_nbformat": 4,
  "vscode": {
   "interpreter": {
    "hash": "6c7c4f5af917f607c97db7fa67fac3e8d5fddd0711d0610918fc68c274e8dfde"
   }
  }
 },
 "nbformat": 4,
 "nbformat_minor": 2
}
